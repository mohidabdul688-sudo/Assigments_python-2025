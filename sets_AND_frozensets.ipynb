{
  "nbformat": 4,
  "nbformat_minor": 0,
  "metadata": {
    "colab": {
      "provenance": []
    },
    "kernelspec": {
      "name": "python3",
      "display_name": "Python 3"
    },
    "language_info": {
      "name": "python"
    }
  },
  "cells": [
    {
      "cell_type": "markdown",
      "source": [
        "Q.1 Create a set of 5 fruits and print it.\n"
      ],
      "metadata": {
        "id": "54Bz77suMLiF"
      }
    },
    {
      "cell_type": "code",
      "source": [
        "my_fruits = {\"banana\",\"avocado\",\"apple\",\"mango\",\"gava\"}\n",
        "print(my_fruits)"
      ],
      "metadata": {
        "colab": {
          "base_uri": "https://localhost:8080/"
        },
        "id": "zlVDg4KkMPt9",
        "outputId": "73dbbd9a-096f-47d0-a613-dbb719e68eba"
      },
      "execution_count": 1,
      "outputs": [
        {
          "output_type": "stream",
          "name": "stdout",
          "text": [
            "{'avocado', 'gava', 'apple', 'mango', 'banana'}\n"
          ]
        }
      ]
    },
    {
      "cell_type": "markdown",
      "source": [
        "Q.2 Add one new fruit to your set using .add() and print the updated set."
      ],
      "metadata": {
        "id": "A2naK3RUNX3Z"
      }
    },
    {
      "cell_type": "code",
      "source": [
        "my_set = {\"banana\",\"avocado\",\"apple\",\"mango\",\"gava\"}\n",
        "my_set.add(\"grapes\")\n",
        "print(my_set)"
      ],
      "metadata": {
        "colab": {
          "base_uri": "https://localhost:8080/"
        },
        "id": "o20hBFC0Nh11",
        "outputId": "34e84d41-cfa4-43a7-b376-ca470815b120"
      },
      "execution_count": 10,
      "outputs": [
        {
          "output_type": "stream",
          "name": "stdout",
          "text": [
            "{'avocado', 'gava', 'grapes', 'apple', 'mango', 'banana'}\n"
          ]
        }
      ]
    },
    {
      "cell_type": "markdown",
      "source": [
        "Q.3 Remove an existing fruit using .remove() (and explain if it errors when missing)."
      ],
      "metadata": {
        "id": "MRROoxacOuiz"
      }
    },
    {
      "cell_type": "code",
      "source": [
        "my_set = {\"banana\",\"avocado\",\"apple\",\"mango\",\"gava\"}\n",
        "my_set.remove(\"avocado\")\n",
        "print(my_set)"
      ],
      "metadata": {
        "colab": {
          "base_uri": "https://localhost:8080/"
        },
        "id": "6banEOKpOxxf",
        "outputId": "7796ce08-156e-45cf-907f-c5003f378da5"
      },
      "execution_count": 14,
      "outputs": [
        {
          "output_type": "stream",
          "name": "stdout",
          "text": [
            "{'gava', 'apple', 'mango', 'banana'}\n"
          ]
        }
      ]
    },
    {
      "cell_type": "markdown",
      "source": [
        "Q.4Remove another fruit using .discard() (and note the difference from .remove())."
      ],
      "metadata": {
        "id": "Q2r_5w1ZSOgJ"
      }
    },
    {
      "cell_type": "code",
      "source": [
        "my_set = {\"banana\",\"avocado\",\"apple\",\"mango\",\"gava\"}\n",
        "my_set.discard(\"banana\")\n",
        "print(my_set)"
      ],
      "metadata": {
        "colab": {
          "base_uri": "https://localhost:8080/"
        },
        "id": "KzSYZlaNSYQT",
        "outputId": "e1596303-9f9e-4911-ab78-fa31aa2ceea3"
      },
      "execution_count": 16,
      "outputs": [
        {
          "output_type": "stream",
          "name": "stdout",
          "text": [
            "{'avocado', 'gava', 'apple', 'mango'}\n"
          ]
        }
      ]
    },
    {
      "cell_type": "markdown",
      "source": [
        "Q.5 Use .pop() to remove an arbitrary item and print the result."
      ],
      "metadata": {
        "id": "gU6uvryjSvl8"
      }
    },
    {
      "cell_type": "code",
      "source": [
        "my_set = {\"banana\",\"apple\",\"mango\",\"gava\"}\n",
        "my_set.pop()\n",
        "print(my_set)"
      ],
      "metadata": {
        "colab": {
          "base_uri": "https://localhost:8080/"
        },
        "id": "RJ91aucwS-SV",
        "outputId": "95b2cc47-3570-440b-c107-e41362757b6a"
      },
      "execution_count": 23,
      "outputs": [
        {
          "output_type": "stream",
          "name": "stdout",
          "text": [
            "{'apple', 'mango', 'banana'}\n"
          ]
        }
      ]
    },
    {
      "cell_type": "markdown",
      "source": [
        "Q.6 Clear the remaining items using .clear() and show that the set is now empty."
      ],
      "metadata": {
        "id": "fWfEjdYgUNfH"
      }
    },
    {
      "cell_type": "code",
      "source": [
        "my_set = {\"banana\",\"apple\",\"mango\",\"gava\"}\n",
        "my_set.clear()\n",
        "print(my_set)"
      ],
      "metadata": {
        "colab": {
          "base_uri": "https://localhost:8080/"
        },
        "id": "QBlEvQy-UY38",
        "outputId": "bfa320df-6094-4fc4-f54d-7c80880656ae"
      },
      "execution_count": 24,
      "outputs": [
        {
          "output_type": "stream",
          "name": "stdout",
          "text": [
            "set()\n"
          ]
        }
      ]
    },
    {
      "cell_type": "markdown",
      "source": [
        "Q.7 Create two sets of numbers and display their union(), intersection(), difference(), symmetric_difference()."
      ],
      "metadata": {
        "id": "yKpRtsaTUs4U"
      }
    },
    {
      "cell_type": "code",
      "source": [
        "set1 = {1, 2, 3, 4, 5}\n",
        "set2 = {4, 5, 6, 7, 8}\n",
        "print(\"Union:\", set1.union(set1))\n",
        "print(\"Intersection:\", set1.intersection(set2))\n",
        "print(\"Difference (set1 - set2):\", set1.difference(set2))\n",
        "print(\"Difference (set2 - set1):\", set2.difference(set1))\n",
        "print(\"Symmetric Difference:\",set1.symmetric_difference(set2))\n"
      ],
      "metadata": {
        "colab": {
          "base_uri": "https://localhost:8080/"
        },
        "id": "FVl-S7uwU1Kk",
        "outputId": "112db59c-e9e6-422e-e7ba-fcc2e22f6c0f"
      },
      "execution_count": 26,
      "outputs": [
        {
          "output_type": "stream",
          "name": "stdout",
          "text": [
            "Union: {1, 2, 3, 4, 5}\n",
            "Intersection: {4, 5}\n",
            "Difference (set1 - set2): {1, 2, 3}\n",
            "Difference (set2 - set1): {8, 6, 7}\n",
            "Symmetric Difference: {1, 2, 3, 6, 7, 8}\n"
          ]
        }
      ]
    },
    {
      "cell_type": "markdown",
      "source": [
        "Q.8 Check if one set is a subset or superset of another, and print results."
      ],
      "metadata": {
        "id": "NAE_Hcm5V1C_"
      }
    },
    {
      "cell_type": "code",
      "source": [
        "set1 = {1, 2}\n",
        "set2 = {1,2, 3, 4,5}\n",
        "print(\"Is set1 a subset of set2?\", set1.issubset(set2))\n",
        "print(\"Is set2 a superset of set1?\", set2.issuperset(set1))\n"
      ],
      "metadata": {
        "colab": {
          "base_uri": "https://localhost:8080/"
        },
        "id": "LCG_asW_V9mL",
        "outputId": "57c50eaf-0da2-44f9-d4af-d7b6df3fb4fb"
      },
      "execution_count": 30,
      "outputs": [
        {
          "output_type": "stream",
          "name": "stdout",
          "text": [
            "Is set1 a subset of set2? True\n",
            "Is set2 a superset of set1? True\n"
          ]
        }
      ]
    },
    {
      "cell_type": "markdown",
      "source": [
        " Q.9 Declare a frozenset of vowels and try adding an item — observe the immutability error."
      ],
      "metadata": {
        "id": "SwGLhDGwXQUJ"
      }
    },
    {
      "cell_type": "code",
      "source": [
        "my_frozenset = frozenset([\"a\",\"e\",\"i\",\"o\",\"u\"])\n",
        "print(\"my_frozenset  = \", my_frozenset)"
      ],
      "metadata": {
        "colab": {
          "base_uri": "https://localhost:8080/"
        },
        "id": "-LtOInh8XauV",
        "outputId": "a41c11fb-3cc5-4627-9fe2-ca4f03d58415"
      },
      "execution_count": 36,
      "outputs": [
        {
          "output_type": "stream",
          "name": "stdout",
          "text": [
            "my_frozenset  =  frozenset({'o', 'i', 'u', 'e', 'a'})\n"
          ]
        }
      ]
    },
    {
      "cell_type": "markdown",
      "source": [
        "Q.10 Use a loop to check membership of a user-input character in the set of vowels."
      ],
      "metadata": {
        "id": "nwcDfSVSYzIn"
      }
    },
    {
      "cell_type": "code",
      "source": [
        "vowels = {'a', 'e', 'i', 'o', 'u'}\n",
        "\n",
        "char = input(\"Enter a character: \")\n",
        "\n",
        "for v in vowels:\n",
        "    if char == v:\n",
        "        print(char, \"is a vowel.\")\n",
        "        break\n",
        "else:\n",
        "    print(char, \"is not a vowel.\")\n"
      ],
      "metadata": {
        "colab": {
          "base_uri": "https://localhost:8080/"
        },
        "id": "jhjJ9tFfY2rU",
        "outputId": "37c81ed7-75bb-4b3f-bed5-b53f6dbda465"
      },
      "execution_count": 38,
      "outputs": [
        {
          "output_type": "stream",
          "name": "stdout",
          "text": [
            "Enter a character: v\n",
            "v is not a vowel.\n"
          ]
        }
      ]
    }
  ]
}