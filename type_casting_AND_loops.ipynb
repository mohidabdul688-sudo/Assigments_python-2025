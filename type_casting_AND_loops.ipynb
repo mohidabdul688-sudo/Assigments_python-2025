{
  "nbformat": 4,
  "nbformat_minor": 0,
  "metadata": {
    "colab": {
      "provenance": []
    },
    "kernelspec": {
      "name": "python3",
      "display_name": "Python 3"
    },
    "language_info": {
      "name": "python"
    }
  },
  "cells": [
    {
      "cell_type": "markdown",
      "source": [
        "# Q.1 **Create** a variable with your name and print each character using a loop.\n"
      ],
      "metadata": {
        "id": "NcwCbcit-I1-"
      }
    },
    {
      "cell_type": "code",
      "execution_count": null,
      "metadata": {
        "id": "bUn1sYZB-H2o",
        "colab": {
          "base_uri": "https://localhost:8080/"
        },
        "outputId": "fbf49c65-8b2f-46de-d1b1-1ddb98c38697"
      },
      "outputs": [
        {
          "output_type": "stream",
          "name": "stdout",
          "text": [
            "m\n",
            "o\n",
            "h\n",
            "i\n",
            "d\n"
          ]
        }
      ],
      "source": [
        "name = \"mohid\"\n",
        "for char in name:\n",
        " print(char)"
      ]
    },
    {
      "cell_type": "markdown",
      "source": [
        "# Q.2 **Use** slicing to print the first 4 characters of a string."
      ],
      "metadata": {
        "id": "zQzQ2fvO_96N"
      }
    },
    {
      "cell_type": "code",
      "source": [
        "my_string = \"hello pakistan\"\n",
        "print(my_string[0:4])"
      ],
      "metadata": {
        "id": "w7eXww4_AMiX",
        "colab": {
          "base_uri": "https://localhost:8080/"
        },
        "outputId": "56a1f23c-4e03-4453-c094-69a535546ab9"
      },
      "execution_count": null,
      "outputs": [
        {
          "output_type": "stream",
          "name": "stdout",
          "text": [
            "hell\n"
          ]
        }
      ]
    },
    {
      "cell_type": "markdown",
      "source": [
        "# Q.3 Ask the user to input a number as a string, convert it to int, add 10, and print the result"
      ],
      "metadata": {
        "id": "pKj-m0PSA2mw"
      }
    },
    {
      "cell_type": "code",
      "source": [
        "user_input = input(\"Enter a number: \")\n",
        "number = int(user_input)\n",
        "result = number + 10\n",
        "print(\"The result after adding 10 is:\", result)"
      ],
      "metadata": {
        "colab": {
          "base_uri": "https://localhost:8080/"
        },
        "id": "_1Rd75cxBAAF",
        "outputId": "949ea8f6-31a7-4baf-faea-e25f312292eb"
      },
      "execution_count": null,
      "outputs": [
        {
          "output_type": "stream",
          "name": "stdout",
          "text": [
            "Enter a number: 70\n",
            "The result after adding 10 is: 80\n"
          ]
        }
      ]
    },
    {
      "cell_type": "markdown",
      "source": [
        "# Q.4 Create a list of string numbers like [\"10\", \"20\", \"30\"], convert to int, and print updated list.\n"
      ],
      "metadata": {
        "id": "2CzUMRW3EFQc"
      }
    },
    {
      "cell_type": "code",
      "source": [
        "string_number = [\"80\", \"90\", \"100\"]\n",
        "converted_number = [int(num)for num in string_number]\n",
        "print(converted_number)"
      ],
      "metadata": {
        "id": "NtIV3dGnEPUG",
        "colab": {
          "base_uri": "https://localhost:8080/"
        },
        "outputId": "c0faf454-ab85-459c-d7c9-edfe4f369695"
      },
      "execution_count": null,
      "outputs": [
        {
          "output_type": "stream",
          "name": "stdout",
          "text": [
            "[80, 90, 100]\n"
          ]
        }
      ]
    },
    {
      "cell_type": "markdown",
      "source": [
        "# Q.5 Check if \"Python\" is in a string using in and print a message"
      ],
      "metadata": {
        "id": "n3Rh8wGGJmPl"
      }
    },
    {
      "cell_type": "code",
      "source": [
        "my_string = \"python is an easy language\"\n",
        "if \"python\" in my_string:\n",
        " print(\"yes python in my_string\")\n",
        "else:\n",
        " print(\"python not in my_string\")"
      ],
      "metadata": {
        "id": "zhZbgX71KCwh",
        "colab": {
          "base_uri": "https://localhost:8080/"
        },
        "outputId": "ebeb86aa-2ceb-4a14-f1e0-177b6c6f6ab4"
      },
      "execution_count": null,
      "outputs": [
        {
          "output_type": "stream",
          "name": "stdout",
          "text": [
            "yes python in my_string\n"
          ]
        }
      ]
    },
    {
      "cell_type": "markdown",
      "source": [
        "# Q.6 Create a string, convert it to uppercase, lowercase, and title case."
      ],
      "metadata": {
        "id": "wTBK-xvmY1HP"
      }
    },
    {
      "cell_type": "code",
      "source": [
        "my_string= \"stairs vs chairs\"\n",
        "print(my_string.upper())\n",
        "print(my_string.lower())"
      ],
      "metadata": {
        "colab": {
          "base_uri": "https://localhost:8080/"
        },
        "id": "-zmIhKVGZG5S",
        "outputId": "d46e7bda-a774-4f3a-e188-3dd34fa19e1e"
      },
      "execution_count": null,
      "outputs": [
        {
          "output_type": "stream",
          "name": "stdout",
          "text": [
            "STAIRS VS CHAIRS\n",
            "stairs vs chairs\n"
          ]
        }
      ]
    },
    {
      "cell_type": "markdown",
      "source": [
        "# Q.7 Use type() to display data types before and after casting from string to integer."
      ],
      "metadata": {
        "id": "zu36J_1HaKon"
      }
    },
    {
      "cell_type": "code",
      "source": [
        "my_string = \"123456789\"\n",
        "print(\"Before casting:\",type(my_string))\n",
        "converted_integer = int(my_string)\n",
        "print(\"After casting:\", type(converted_integer))"
      ],
      "metadata": {
        "colab": {
          "base_uri": "https://localhost:8080/"
        },
        "id": "a77cmPh8aXCU",
        "outputId": "5477cb62-f5b5-4188-bc56-264dfedb027d"
      },
      "execution_count": null,
      "outputs": [
        {
          "output_type": "stream",
          "name": "stdout",
          "text": [
            "Before casting: <class 'str'>\n",
            "After casting: <class 'int'>\n"
          ]
        }
      ]
    },
    {
      "cell_type": "markdown",
      "source": [
        "# Q.8 Take user input for name and age. Check if age (casted to int) is above 18 and print eligibility."
      ],
      "metadata": {
        "id": "R29LpxM1a-3W"
      }
    },
    {
      "cell_type": "code",
      "source": [
        "name = input(\"Enter your name:\", )\n",
        "age= input(\"Enteryour age:\",)\n",
        "age = (int(age))\n",
        "if age >18:\n",
        " print(\"welcome to this journey\", \"you are eligible for this program\")\n",
        "else:\n",
        " print(\"sorry to this journey\",\"you are not eligiablefor this program\" )"
      ],
      "metadata": {
        "colab": {
          "base_uri": "https://localhost:8080/"
        },
        "id": "Sv2BRYAWbJmo",
        "outputId": "ce30c220-812a-4c3c-ca02-fba847333547"
      },
      "execution_count": null,
      "outputs": [
        {
          "output_type": "stream",
          "name": "stdout",
          "text": [
            "Enter your name:mohid\n",
            "Enteryour age:78\n",
            "welcome to this journey you are eligible for this program\n"
          ]
        }
      ]
    },
    {
      "cell_type": "markdown",
      "source": [
        "# Q.9 Create a variable with mixed-case text. Check if the text is uppercase and print results."
      ],
      "metadata": {
        "id": "awTaYv7Vejem"
      }
    },
    {
      "cell_type": "code",
      "source": [
        "my_variable = \"chair7899\"\n",
        "if my_variable.isupper:\n",
        " print(\"your_variable is in uppercase\")\n",
        "else:\n",
        "  print(\"your variable is in not uppercase\")"
      ],
      "metadata": {
        "colab": {
          "base_uri": "https://localhost:8080/"
        },
        "id": "xWwhDJ64exZ2",
        "outputId": "7dc64d3a-09a1-4774-8f20-23f1aa03a835"
      },
      "execution_count": null,
      "outputs": [
        {
          "output_type": "stream",
          "name": "stdout",
          "text": [
            "your_variable is in uppercase\n"
          ]
        }
      ]
    },
    {
      "cell_type": "markdown",
      "source": [
        "# Q.10 **Create** a string with numbers, convert it to float and int, and print all conversions with their types.\n"
      ],
      "metadata": {
        "id": "di93hDObfc7R"
      }
    },
    {
      "cell_type": "code",
      "source": [
        "my_string = \"2007\"\n",
        "converted_float = float(my_string)\n",
        "converted_int = int(converted_float)\n",
        "print(\"Original string:\", my_string, \" type:\", type(my_string))\n",
        "print(\"as float:\", converted_float, \" type:\", type(converted_float))\n",
        "print(\"as int:\", converted_int, \" type:\", type(converted_int))"
      ],
      "metadata": {
        "colab": {
          "base_uri": "https://localhost:8080/"
        },
        "id": "ZEg4ufKif8w9",
        "outputId": "14881f59-e477-40a8-ab6e-c41868e52ae2"
      },
      "execution_count": null,
      "outputs": [
        {
          "output_type": "stream",
          "name": "stdout",
          "text": [
            "Original string: 2007  type: <class 'str'>\n",
            "as float: 2007.0  type: <class 'float'>\n",
            "as int: 2007  type: <class 'int'>\n"
          ]
        }
      ]
    }
  ]
}