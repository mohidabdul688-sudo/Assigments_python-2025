{
  "nbformat": 4,
  "nbformat_minor": 0,
  "metadata": {
    "colab": {
      "provenance": []
    },
    "kernelspec": {
      "name": "python3",
      "display_name": "Python 3"
    },
    "language_info": {
      "name": "python"
    }
  },
  "cells": [
    {
      "cell_type": "markdown",
      "source": [
        "# Q 1 Write a program to check if a number is positive, negative, or zero"
      ],
      "metadata": {
        "id": "Xs15Wl6NP-gQ"
      }
    },
    {
      "cell_type": "code",
      "source": [
        "num = 8\n",
        "if num >4:\n",
        "  print(\"the number is psitive\")\n",
        "elif num <4:\n",
        "    print(\"the number is negative\")\n",
        "else:\n",
        " print(\"the number is zero\")\n"
      ],
      "metadata": {
        "colab": {
          "base_uri": "https://localhost:8080/"
        },
        "id": "aQMElZDtQHrN",
        "outputId": "0d655247-9d0e-4189-8883-03b7e2d3eaf3"
      },
      "execution_count": null,
      "outputs": [
        {
          "output_type": "stream",
          "name": "stdout",
          "text": [
            "the number is psitive\n"
          ]
        }
      ]
    },
    {
      "cell_type": "markdown",
      "source": [
        "# Q 2 Input a number and print whether it is even or odd"
      ],
      "metadata": {
        "id": "gvl4OBJvRgPe"
      }
    },
    {
      "cell_type": "code",
      "source": [
        " num = 56\n",
        " if num == 67:\n",
        "  print(\"number is odd\")\n",
        " else:\n",
        "     print(\"number is even\")\n"
      ],
      "metadata": {
        "colab": {
          "base_uri": "https://localhost:8080/"
        },
        "id": "ED01xvVmRuJT",
        "outputId": "948a2387-0329-41da-cc49-30caf701fbe0"
      },
      "execution_count": null,
      "outputs": [
        {
          "output_type": "stream",
          "name": "stdout",
          "text": [
            "number is even\n"
          ]
        }
      ]
    },
    {
      "cell_type": "markdown",
      "source": [
        "# Q 3 Ask age and print if person is eligible to vote"
      ],
      "metadata": {
        "id": "WmeVdvj8TCsR"
      }
    },
    {
      "cell_type": "code",
      "source": [
        "my_age = 17\n",
        "if my_age<20:\n",
        "  print(\"i am eligible to vote\")\n",
        "else:\n",
        "  print('i am not eligible to vote')"
      ],
      "metadata": {
        "colab": {
          "base_uri": "https://localhost:8080/"
        },
        "id": "yq5lfSuqTIDv",
        "outputId": "f05fe9bc-3ae7-4e64-b680-4cccf30494ec"
      },
      "execution_count": null,
      "outputs": [
        {
          "output_type": "stream",
          "name": "stdout",
          "text": [
            "i am eligible to vote\n"
          ]
        }
      ]
    },
    {
      "cell_type": "markdown",
      "source": [
        "# Q 4 Check if a number is divisible by 3, 5, or both"
      ],
      "metadata": {
        "id": "9oRdHhfJUZlM"
      }
    },
    {
      "cell_type": "code",
      "source": [
        "num = 9\n",
        "if num %3==0 and num % 5== 0:\n",
        "  print(\"num is divisible by both\")\n",
        "elif num %3==0:\n",
        " print(\"num is divisible by 3\")\n",
        "elif num%5==0:\n",
        " print(\"num is divisible by 5\")\n",
        "else:\n",
        "  print(\"num is not  divisible by both\")"
      ],
      "metadata": {
        "colab": {
          "base_uri": "https://localhost:8080/"
        },
        "id": "OslnUsp9UjM0",
        "outputId": "acfabe86-f053-4830-f16d-596d0e94f20d"
      },
      "execution_count": null,
      "outputs": [
        {
          "output_type": "stream",
          "name": "stdout",
          "text": [
            "num is divisible by 3\n"
          ]
        }
      ]
    },
    {
      "cell_type": "markdown",
      "source": [
        "# Q 5 Input marks and print grade using if-elif-else"
      ],
      "metadata": {
        "id": "g5lnD3LMXn59"
      }
    },
    {
      "cell_type": "code",
      "source": [
        "marks = 97\n",
        "if marks>90:\n",
        "  print(\"grade A+\")\n",
        "elif marks <90:\n",
        "    print(\"grade A\")\n",
        "else:\n",
        "      print(\"pass\")"
      ],
      "metadata": {
        "colab": {
          "base_uri": "https://localhost:8080/"
        },
        "id": "KOUcHA6VXupd",
        "outputId": "5ffa505b-b28b-4ebb-dda2-77811950f7ef"
      },
      "execution_count": null,
      "outputs": [
        {
          "output_type": "stream",
          "name": "stdout",
          "text": [
            "grade A+\n"
          ]
        }
      ]
    },
    {
      "cell_type": "markdown",
      "source": [
        "# Q 6 Print numbers from 1 to 10 using a loop"
      ],
      "metadata": {
        "id": "ztjdrLJBZXw2"
      }
    },
    {
      "cell_type": "code",
      "source": [
        "\n",
        "for i in range (11):\n",
        "  print(i)"
      ],
      "metadata": {
        "colab": {
          "base_uri": "https://localhost:8080/"
        },
        "id": "NZx_XJCnZjr6",
        "outputId": "a6164aa3-1567-461a-dbff-e926ebed0d03"
      },
      "execution_count": null,
      "outputs": [
        {
          "output_type": "stream",
          "name": "stdout",
          "text": [
            "0\n",
            "1\n",
            "2\n",
            "3\n",
            "4\n",
            "5\n",
            "6\n",
            "7\n",
            "8\n",
            "9\n",
            "10\n"
          ]
        }
      ]
    },
    {
      "cell_type": "markdown",
      "source": [
        "# Q 7 Print the multiplication table of 6"
      ],
      "metadata": {
        "id": "ZGD3SrxYcLEt"
      }
    },
    {
      "cell_type": "code",
      "source": [
        "for i in range(1,11):\n",
        "  print(f\"6*{i}= {6*i}\")"
      ],
      "metadata": {
        "colab": {
          "base_uri": "https://localhost:8080/"
        },
        "id": "XjeEgDTzcVDp",
        "outputId": "83f7f83f-822c-4f86-ad3c-3f401a49a8ff"
      },
      "execution_count": null,
      "outputs": [
        {
          "output_type": "stream",
          "name": "stdout",
          "text": [
            "6*1= 6\n",
            "6*2= 12\n",
            "6*3= 18\n",
            "6*4= 24\n",
            "6*5= 30\n",
            "6*6= 36\n",
            "6*7= 42\n",
            "6*8= 48\n",
            "6*9= 54\n",
            "6*10= 60\n"
          ]
        }
      ]
    },
    {
      "cell_type": "markdown",
      "source": [
        "# Q 8 Use a loop to print all even numbers between 1 and 20"
      ],
      "metadata": {
        "id": "VTWartIPdYyW"
      }
    },
    {
      "cell_type": "code",
      "source": [
        "for num in range(2, 21, 2):\n",
        "    print(num)"
      ],
      "metadata": {
        "colab": {
          "base_uri": "https://localhost:8080/"
        },
        "id": "ORncUbz3d4L9",
        "outputId": "54238a53-c6dd-4762-9a15-cc973b30c7a1"
      },
      "execution_count": null,
      "outputs": [
        {
          "output_type": "stream",
          "name": "stdout",
          "text": [
            "2\n",
            "4\n",
            "6\n",
            "8\n",
            "10\n",
            "12\n",
            "14\n",
            "16\n",
            "18\n",
            "20\n"
          ]
        }
      ]
    },
    {
      "cell_type": "markdown",
      "source": [
        "# Q 9Ask for a word and print each letter on a new line"
      ],
      "metadata": {
        "id": "_7xgbyS4d9aK"
      }
    },
    {
      "cell_type": "code",
      "source": [
        "word = (\"A,B,C\")\n",
        "for letter in word:\n",
        " print(letter)\n"
      ],
      "metadata": {
        "colab": {
          "base_uri": "https://localhost:8080/"
        },
        "id": "1i7_SQMceF6h",
        "outputId": "5ff5ab1e-3c32-41e4-93d4-739173adc463"
      },
      "execution_count": null,
      "outputs": [
        {
          "output_type": "stream",
          "name": "stdout",
          "text": [
            "A\n",
            ",\n",
            "B\n",
            ",\n",
            "C\n"
          ]
        }
      ]
    },
    {
      "cell_type": "markdown",
      "source": [
        "# Q 10 Count how many vowels are in the word “education"
      ],
      "metadata": {
        "id": "EMwOdssMfvWL"
      }
    },
    {
      "cell_type": "code",
      "source": [
        "word=(\"education\")\n",
        "if \"a,e,i,o,u\"in word:\n",
        "  print(\"word\")\n",
        "else:\n",
        "  print(\"5\")"
      ],
      "metadata": {
        "colab": {
          "base_uri": "https://localhost:8080/"
        },
        "id": "R0YjjZ-AiH2O",
        "outputId": "306aedbc-97df-4495-fc48-e41e26afec09"
      },
      "execution_count": null,
      "outputs": [
        {
          "output_type": "stream",
          "name": "stdout",
          "text": [
            "5\n"
          ]
        }
      ]
    }
  ]
}