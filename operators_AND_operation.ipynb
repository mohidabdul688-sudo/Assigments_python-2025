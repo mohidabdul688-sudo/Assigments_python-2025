{
  "nbformat": 4,
  "nbformat_minor": 0,
  "metadata": {
    "colab": {
      "provenance": []
    },
    "kernelspec": {
      "name": "python3",
      "display_name": "Python 3"
    },
    "language_info": {
      "name": "python"
    }
  },
  "cells": [
    {
      "cell_type": "markdown",
      "source": [
        "# Create variable a = 15 b = 5 .perform and print all arithmetic operation"
      ],
      "metadata": {
        "id": "fkzdkAYmoH2A"
      }
    },
    {
      "cell_type": "code",
      "source": [
        "a :int =15\n",
        "b :int =5\n",
        "print(\"a+b=\",a+b)\n",
        "print(\"a-b=\",a-b)\n",
        "print(\"a*b=\",a*b)\n",
        "print(\"a/b=\",a/b)\n",
        "print(\"a//b=\",a//b)\n",
        "print(\"a%b=\",a%b)\n",
        "print(\"a**b=\",a**b)"
      ],
      "metadata": {
        "colab": {
          "base_uri": "https://localhost:8080/"
        },
        "id": "lxJw2Up0osB_",
        "outputId": "80ea4154-a569-4e74-9c0a-5df8c0adc29a"
      },
      "execution_count": null,
      "outputs": [
        {
          "output_type": "stream",
          "name": "stdout",
          "text": [
            "a+b= 20\n",
            "a-b= 10\n",
            "a*b= 75\n",
            "a/b= 3.0\n",
            "a//b= 3\n",
            "a%b= 0\n",
            "a**b= 759375\n"
          ]
        }
      ]
    },
    {
      "cell_type": "markdown",
      "source": [
        "# Q.2 Use comparison operator to compare a and b and print result"
      ],
      "metadata": {
        "id": "6irHynsoqmwz"
      }
    },
    {
      "cell_type": "code",
      "source": [
        "a :int =5\n",
        "b :int =5\n",
        "print(\"a==b=\",a==b)\n",
        "print(\"a!=b=\",a!=b)\n",
        "print(\"a>b=\",a>b)\n",
        "print(\"a<b=\",a<b)\n",
        "print(\"a>=b=\",a>=b)\n",
        "print(\"a<=b=\",a<=b)"
      ],
      "metadata": {
        "colab": {
          "base_uri": "https://localhost:8080/"
        },
        "id": "kvqjUTwZq6Nx",
        "outputId": "ab010483-6678-4ff1-f104-214e43cc9f20"
      },
      "execution_count": null,
      "outputs": [
        {
          "output_type": "stream",
          "name": "stdout",
          "text": [
            "a==b= True\n",
            "a!=b= False\n",
            "a>b= False\n",
            "a<b= False\n",
            "a>=b= True\n",
            "a<=b= True\n"
          ]
        }
      ]
    },
    {
      "cell_type": "markdown",
      "source": [
        "## **Q.3 Create boolean variable x = True and y =False**"
      ],
      "metadata": {
        "id": "5bb-W1lVtlHS"
      }
    },
    {
      "cell_type": "code",
      "source": [
        "x =True\n",
        "y =False\n",
        "print(\"x and y=\",x and y)\n",
        "print(\"x or y=\",x or y)\n",
        "print(\"not x=\",not x)\n",
        "print(\"not y=\",not y)"
      ],
      "metadata": {
        "colab": {
          "base_uri": "https://localhost:8080/"
        },
        "id": "7vs9HUvFt-hg",
        "outputId": "8f1df7e0-40d5-4104-8968-a49be85f9b6c"
      },
      "execution_count": null,
      "outputs": [
        {
          "output_type": "stream",
          "name": "stdout",
          "text": [
            "x and y= False\n",
            "x or y= True\n",
            "not x= False\n",
            "not y= True\n"
          ]
        }
      ]
    },
    {
      "cell_type": "markdown",
      "source": [
        "## **Q.4 Use assigment operator on a variable and print result .**"
      ],
      "metadata": {
        "id": "ZiHfj-3BvmwR"
      }
    },
    {
      "cell_type": "code",
      "source": [
        "x = 4\n",
        "print(\"x =\",x)\n",
        "x += 4\n",
        "print(\"x +=\",x)\n",
        "x -= 4\n",
        "print(\"x -=\",x)\n",
        "x *= 4\n",
        "print(\"x *=\",x)\n",
        "x /= 4\n",
        "print(\"x /=\",x)\n",
        "x //=4\n",
        "print(\"x//=\",x)"
      ],
      "metadata": {
        "colab": {
          "base_uri": "https://localhost:8080/"
        },
        "id": "qJy83ypEw-1o",
        "outputId": "4f602354-8107-4a1e-9594-dc3ff0e2cac7"
      },
      "execution_count": null,
      "outputs": [
        {
          "output_type": "stream",
          "name": "stdout",
          "text": [
            "x = 4\n",
            "x += 8\n",
            "x -= 4\n",
            "x *= 16\n",
            "x /= 4.0\n",
            "x//= 1.0\n"
          ]
        }
      ]
    },
    {
      "cell_type": "markdown",
      "source": [
        "# **Q.5 Use is and is not operators with two equal values**"
      ],
      "metadata": {
        "id": "1RzULhMnzUFd"
      }
    },
    {
      "cell_type": "code",
      "source": [
        "a =100\n",
        "b =100\n",
        "print(a is b)\n",
        "print(a is not b)"
      ],
      "metadata": {
        "colab": {
          "base_uri": "https://localhost:8080/"
        },
        "id": "-aOBF-7Ozu5c",
        "outputId": "534acc8c-2e37-4413-b974-58dd4e858af3"
      },
      "execution_count": null,
      "outputs": [
        {
          "output_type": "stream",
          "name": "stdout",
          "text": [
            "True\n",
            "False\n"
          ]
        }
      ]
    },
    {
      "cell_type": "markdown",
      "source": [
        "# **Q.6 Check the presence of words using in and not in operator in a string**"
      ],
      "metadata": {
        "id": "odkc542h0j7N"
      }
    },
    {
      "cell_type": "code",
      "source": [
        "sentence =\"i love cricket team\"\n",
        "#in\n",
        "print(\"cricket\" in sentence)\n",
        "print(\"python\" in sentence)\n",
        "#not in\n",
        "print(\"love\" not in sentence)\n",
        "print(\"hat\" not in sentence)"
      ],
      "metadata": {
        "colab": {
          "base_uri": "https://localhost:8080/"
        },
        "id": "6KZruqPK1S7s",
        "outputId": "705650ca-956d-4516-f673-7c588f93b5cb"
      },
      "execution_count": null,
      "outputs": [
        {
          "output_type": "stream",
          "name": "stdout",
          "text": [
            "True\n",
            "False\n",
            "False\n",
            "True\n"
          ]
        }
      ]
    },
    {
      "cell_type": "markdown",
      "source": [
        "# Q**.7** Import the keyword module and print all python keyword"
      ],
      "metadata": {
        "id": "qjv-9R9G3F3O"
      }
    },
    {
      "cell_type": "code",
      "source": [
        "import keyword\n",
        "print(\"the keyword list is:\")\n",
        "print (keyword.kwlist)"
      ],
      "metadata": {
        "colab": {
          "base_uri": "https://localhost:8080/"
        },
        "id": "8XeiKyIu3iy8",
        "outputId": "e460a05b-e4de-4c8b-eef6-cd6eee6485fd"
      },
      "execution_count": null,
      "outputs": [
        {
          "output_type": "stream",
          "name": "stdout",
          "text": [
            "the keyword list is:\n",
            "['False', 'None', 'True', 'and', 'as', 'assert', 'async', 'await', 'break', 'class', 'continue', 'def', 'del', 'elif', 'else', 'except', 'finally', 'for', 'from', 'global', 'if', 'import', 'in', 'is', 'lambda', 'nonlocal', 'not', 'or', 'pass', 'raise', 'return', 'try', 'while', 'with', 'yield']\n"
          ]
        }
      ]
    },
    {
      "cell_type": "markdown",
      "source": [
        "# Q.8 Declare variables name,age,height and print their values with type.**bold text**"
      ],
      "metadata": {
        "id": "PEwJQVd75Mo5"
      }
    },
    {
      "cell_type": "code",
      "source": [
        "name = \"abdul_mohid\"\n",
        "age =17\n",
        "height =5.5\n",
        "print(\"value of name:\",name, type(name))\n",
        "print(\"value of age:\",age, type(age))\n",
        "print(\"value of height:\",height,type(height))"
      ],
      "metadata": {
        "colab": {
          "base_uri": "https://localhost:8080/"
        },
        "id": "WQcGvP5957EP",
        "outputId": "679265b6-ebc3-4ac3-92c0-e4141ce46a83"
      },
      "execution_count": null,
      "outputs": [
        {
          "output_type": "stream",
          "name": "stdout",
          "text": [
            "value of name: abdul_mohid <class 'str'>\n",
            "value of age: 17 <class 'int'>\n",
            "value of height: 5.5 <class 'float'>\n"
          ]
        }
      ]
    },
    {
      "cell_type": "markdown",
      "source": [
        "# **Q.9 Write 5 valid and 3 invalid variable name**."
      ],
      "metadata": {
        "id": "IGH-hfu4Aj5X"
      }
    },
    {
      "cell_type": "code",
      "source": [
        "\"valid variables\"\n",
        "\n",
        "student_name =\"abdul_mohid\"\n",
        "age = 17\n",
        "height=5.5\n",
        "total_marks =89\n",
        "is_enrolled= True\n",
        "\n",
        "\n",
        "\"invalid variables\"\n",
        "\n",
        "#1student = \"ahsan\"       # invalid: cannot start with a number\n",
        "#total-marks= 456         # invalid: hyphen are not allowed\n",
        "#class = 10th             # invalid: class is a reserved word"
      ],
      "metadata": {
        "colab": {
          "base_uri": "https://localhost:8080/",
          "height": 35
        },
        "collapsed": true,
        "id": "04Hfy9OvA1e_",
        "outputId": "2429f311-d29c-4d2b-9a9e-53e877b5f680"
      },
      "execution_count": null,
      "outputs": [
        {
          "output_type": "execute_result",
          "data": {
            "text/plain": [
              "'invalid variables'"
            ],
            "application/vnd.google.colaboratory.intrinsic+json": {
              "type": "string"
            }
          },
          "metadata": {},
          "execution_count": 14
        }
      ]
    },
    {
      "cell_type": "markdown",
      "source": [
        "# Q.10 Assign multiple values in one line."
      ],
      "metadata": {
        "id": "IdO1YGo2EzrQ"
      }
    },
    {
      "cell_type": "code",
      "source": [
        "x,y,z =1,2.3, \"pakistan\"\n",
        "print(\"x=\",x ,type(x),id(x))\n",
        "print(\"y=\",y ,type(y),id(y))\n",
        "print(\"z=\",z ,type(z),id(z))"
      ],
      "metadata": {
        "colab": {
          "base_uri": "https://localhost:8080/"
        },
        "id": "rQy-bJUEFeWT",
        "outputId": "ece134ff-61e7-4b8f-eb13-5a20d3e08eb1"
      },
      "execution_count": null,
      "outputs": [
        {
          "output_type": "stream",
          "name": "stdout",
          "text": [
            "x= 1 <class 'int'> 10757736\n",
            "y= 2.3 <class 'float'> 134161248354032\n",
            "z= pakistan <class 'str'> 134161275247536\n"
          ]
        }
      ]
    }
  ]
}